{
  "nbformat": 4,
  "nbformat_minor": 0,
  "metadata": {
    "colab": {
      "name": "gundata.ipynb",
      "provenance": [],
      "collapsed_sections": [],
      "mount_file_id": "1hgvup_7qESnTZxM2f0ajM5QR1dGxEwKh",
      "authorship_tag": "ABX9TyPXlcPjm9dRsV3Giv5v8ScM"
    },
    "kernelspec": {
      "name": "python3",
      "display_name": "Python 3"
    },
    "language_info": {
      "name": "python"
    }
  },
  "cells": [
    {
      "cell_type": "markdown",
      "metadata": {
        "id": "lUNKcDgS7dYZ"
      },
      "source": [
        "Suicide in the US\n",
        "Suicide is death caused by injuring oneself with the intent to die. A suicide attempt is when someone harms themselves with any intent to end their life, but they do not die as a result of their actions.\n",
        "Many factors can increase the risk for suicide or protect against it. Suicide is connected to other forms of injury and violence. For example, people who have experienced violence, including child abuse, bullying, or sexual violence have a higher suicide risk. Being connected to family and community support and having easy access to health care can decrease suicidal thoughts and behaviors.\n",
        "Suicide rates increased 33% between 1999 and 2019. Suicide is the 10th leading cause of death in the United States. It was responsible for more than 47,500 deaths in 2019, which is about one death every 11 minutes. The number of people who think about or attempt suicide is even higher. In 2019, 12 million American adults seriously thought about suicide, 3.5 million planned a suicide attempt, and 1.4 million attempted suicide.\n",
        "\n",
        "This study is focused on analyzing the file provided to get insights on suicide incidents involving guns between the year 2012 and 2014 in USA and find out any trends or linkage between factors like race, gender, education or age. It considers the factors affecting the incidents and attempts to answer the following questions:\n",
        "\n",
        "• Does age play a role in occurrence of suicides?\n",
        "\n",
        "• Is one gender more prone to suicide than the other one?\n",
        "\n",
        "• Is any combination of factors indicative of more suicides than other?\n",
        "\n",
        "Using the answers to those questions (and to other you may create), write actionable recommendations for suicide support people.\n",
        "The data for this study can be found at the following URL: https://github.com/fivethirtyeight/guns-data/blob/master/full_data.csv"
      ]
    },
    {
      "cell_type": "code",
      "metadata": {
        "id": "4d9WMoMeIj48"
      },
      "source": [
        "import pandas as pd\n",
        "import numpy as np"
      ],
      "execution_count": 1,
      "outputs": []
    },
    {
      "cell_type": "code",
      "metadata": {
        "id": "8l_WP_CI77Wa"
      },
      "source": [
        "gundata = pd.read_csv('/content/drive/MyDrive/Colab Notebooks/gundata/gundata.csv')"
      ],
      "execution_count": 2,
      "outputs": []
    },
    {
      "cell_type": "code",
      "metadata": {
        "id": "4KcXV0GG8Aip"
      },
      "source": [
        "gundata.drop('Unnamed: 0', axis=1, inplace=True)"
      ],
      "execution_count": 3,
      "outputs": []
    },
    {
      "cell_type": "code",
      "metadata": {
        "colab": {
          "base_uri": "https://localhost:8080/",
          "height": 204
        },
        "id": "-tyYl3Dt9O76",
        "outputId": "28409c79-6cf8-4e16-fe43-4ecf6719c85c"
      },
      "source": [
        "gundata.head()"
      ],
      "execution_count": 4,
      "outputs": [
        {
          "output_type": "execute_result",
          "data": {
            "text/html": [
              "<div>\n",
              "<style scoped>\n",
              "    .dataframe tbody tr th:only-of-type {\n",
              "        vertical-align: middle;\n",
              "    }\n",
              "\n",
              "    .dataframe tbody tr th {\n",
              "        vertical-align: top;\n",
              "    }\n",
              "\n",
              "    .dataframe thead th {\n",
              "        text-align: right;\n",
              "    }\n",
              "</style>\n",
              "<table border=\"1\" class=\"dataframe\">\n",
              "  <thead>\n",
              "    <tr style=\"text-align: right;\">\n",
              "      <th></th>\n",
              "      <th>year</th>\n",
              "      <th>month</th>\n",
              "      <th>intent</th>\n",
              "      <th>police</th>\n",
              "      <th>sex</th>\n",
              "      <th>age</th>\n",
              "      <th>race</th>\n",
              "      <th>hispanic</th>\n",
              "      <th>place</th>\n",
              "      <th>education</th>\n",
              "    </tr>\n",
              "  </thead>\n",
              "  <tbody>\n",
              "    <tr>\n",
              "      <th>0</th>\n",
              "      <td>2012</td>\n",
              "      <td>1</td>\n",
              "      <td>Suicide</td>\n",
              "      <td>0</td>\n",
              "      <td>M</td>\n",
              "      <td>34.0</td>\n",
              "      <td>Asian/Pacific Islander</td>\n",
              "      <td>100</td>\n",
              "      <td>Home</td>\n",
              "      <td>BA+</td>\n",
              "    </tr>\n",
              "    <tr>\n",
              "      <th>1</th>\n",
              "      <td>2012</td>\n",
              "      <td>1</td>\n",
              "      <td>Suicide</td>\n",
              "      <td>0</td>\n",
              "      <td>F</td>\n",
              "      <td>21.0</td>\n",
              "      <td>White</td>\n",
              "      <td>100</td>\n",
              "      <td>Street</td>\n",
              "      <td>Some college</td>\n",
              "    </tr>\n",
              "    <tr>\n",
              "      <th>2</th>\n",
              "      <td>2012</td>\n",
              "      <td>1</td>\n",
              "      <td>Suicide</td>\n",
              "      <td>0</td>\n",
              "      <td>M</td>\n",
              "      <td>60.0</td>\n",
              "      <td>White</td>\n",
              "      <td>100</td>\n",
              "      <td>Other specified</td>\n",
              "      <td>BA+</td>\n",
              "    </tr>\n",
              "    <tr>\n",
              "      <th>3</th>\n",
              "      <td>2012</td>\n",
              "      <td>2</td>\n",
              "      <td>Suicide</td>\n",
              "      <td>0</td>\n",
              "      <td>M</td>\n",
              "      <td>64.0</td>\n",
              "      <td>White</td>\n",
              "      <td>100</td>\n",
              "      <td>Home</td>\n",
              "      <td>BA+</td>\n",
              "    </tr>\n",
              "    <tr>\n",
              "      <th>4</th>\n",
              "      <td>2012</td>\n",
              "      <td>2</td>\n",
              "      <td>Suicide</td>\n",
              "      <td>0</td>\n",
              "      <td>M</td>\n",
              "      <td>31.0</td>\n",
              "      <td>White</td>\n",
              "      <td>100</td>\n",
              "      <td>Other specified</td>\n",
              "      <td>HS/GED</td>\n",
              "    </tr>\n",
              "  </tbody>\n",
              "</table>\n",
              "</div>"
            ],
            "text/plain": [
              "   year  month   intent  ...  hispanic            place     education\n",
              "0  2012      1  Suicide  ...       100             Home           BA+\n",
              "1  2012      1  Suicide  ...       100           Street  Some college\n",
              "2  2012      1  Suicide  ...       100  Other specified           BA+\n",
              "3  2012      2  Suicide  ...       100             Home           BA+\n",
              "4  2012      2  Suicide  ...       100  Other specified        HS/GED\n",
              "\n",
              "[5 rows x 10 columns]"
            ]
          },
          "metadata": {},
          "execution_count": 4
        }
      ]
    }
  ]
}