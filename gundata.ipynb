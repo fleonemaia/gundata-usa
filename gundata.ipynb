{
  "nbformat": 4,
  "nbformat_minor": 0,
  "metadata": {
    "colab": {
      "name": "gundata.ipynb",
      "provenance": [],
      "collapsed_sections": [
        "4OzTgda6GOVt",
        "lUNKcDgS7dYZ",
        "Zte7t1KRCPMX",
        "7K6dgsrMCTZa",
        "Kg5Lym07P0Ja",
        "1Cjwulg3PqjS"
      ],
      "mount_file_id": "1hgvup_7qESnTZxM2f0ajM5QR1dGxEwKh",
      "authorship_tag": "ABX9TyOjaIs1KuJxcd6uPQGUFPBK"
    },
    "kernelspec": {
      "name": "python3",
      "display_name": "Python 3"
    },
    "language_info": {
      "name": "python"
    }
  },
  "cells": [
    {
      "cell_type": "markdown",
      "metadata": {
        "id": "4OzTgda6GOVt"
      },
      "source": [
        "### Load"
      ]
    },
    {
      "cell_type": "markdown",
      "metadata": {
        "id": "NCs1JdbHCWQ0"
      },
      "source": [
        "https://github.com/fivethirtyeight/guns-data/blob/master/full_data.csv"
      ]
    },
    {
      "cell_type": "code",
      "metadata": {
        "id": "4d9WMoMeIj48"
      },
      "source": [
        "import pandas as pd\n",
        "import numpy as np\n",
        "import re\n",
        "import matplotlib.pyplot as plt"
      ],
      "execution_count": 2,
      "outputs": []
    },
    {
      "cell_type": "code",
      "metadata": {
        "id": "8l_WP_CI77Wa"
      },
      "source": [
        "gundata = pd.read_csv('/content/drive/MyDrive/Colab Notebooks/gundata/gundata.csv')"
      ],
      "execution_count": 3,
      "outputs": []
    },
    {
      "cell_type": "code",
      "metadata": {
        "id": "4KcXV0GG8Aip"
      },
      "source": [
        "gundata.drop('Unnamed: 0', axis=1, inplace=True)"
      ],
      "execution_count": 4,
      "outputs": []
    },
    {
      "cell_type": "code",
      "metadata": {
        "colab": {
          "base_uri": "https://localhost:8080/",
          "height": 0
        },
        "id": "-tyYl3Dt9O76",
        "outputId": "3b0c4284-15d4-47aa-f601-d19c030d22a4"
      },
      "source": [
        "gundata.head()"
      ],
      "execution_count": 5,
      "outputs": [
        {
          "output_type": "execute_result",
          "data": {
            "text/html": [
              "<div>\n",
              "<style scoped>\n",
              "    .dataframe tbody tr th:only-of-type {\n",
              "        vertical-align: middle;\n",
              "    }\n",
              "\n",
              "    .dataframe tbody tr th {\n",
              "        vertical-align: top;\n",
              "    }\n",
              "\n",
              "    .dataframe thead th {\n",
              "        text-align: right;\n",
              "    }\n",
              "</style>\n",
              "<table border=\"1\" class=\"dataframe\">\n",
              "  <thead>\n",
              "    <tr style=\"text-align: right;\">\n",
              "      <th></th>\n",
              "      <th>year</th>\n",
              "      <th>month</th>\n",
              "      <th>intent</th>\n",
              "      <th>police</th>\n",
              "      <th>sex</th>\n",
              "      <th>age</th>\n",
              "      <th>race</th>\n",
              "      <th>hispanic</th>\n",
              "      <th>place</th>\n",
              "      <th>education</th>\n",
              "    </tr>\n",
              "  </thead>\n",
              "  <tbody>\n",
              "    <tr>\n",
              "      <th>0</th>\n",
              "      <td>2012</td>\n",
              "      <td>1</td>\n",
              "      <td>Suicide</td>\n",
              "      <td>0</td>\n",
              "      <td>M</td>\n",
              "      <td>34.0</td>\n",
              "      <td>Asian/Pacific Islander</td>\n",
              "      <td>100</td>\n",
              "      <td>Home</td>\n",
              "      <td>BA+</td>\n",
              "    </tr>\n",
              "    <tr>\n",
              "      <th>1</th>\n",
              "      <td>2012</td>\n",
              "      <td>1</td>\n",
              "      <td>Suicide</td>\n",
              "      <td>0</td>\n",
              "      <td>F</td>\n",
              "      <td>21.0</td>\n",
              "      <td>White</td>\n",
              "      <td>100</td>\n",
              "      <td>Street</td>\n",
              "      <td>Some college</td>\n",
              "    </tr>\n",
              "    <tr>\n",
              "      <th>2</th>\n",
              "      <td>2012</td>\n",
              "      <td>1</td>\n",
              "      <td>Suicide</td>\n",
              "      <td>0</td>\n",
              "      <td>M</td>\n",
              "      <td>60.0</td>\n",
              "      <td>White</td>\n",
              "      <td>100</td>\n",
              "      <td>Other specified</td>\n",
              "      <td>BA+</td>\n",
              "    </tr>\n",
              "    <tr>\n",
              "      <th>3</th>\n",
              "      <td>2012</td>\n",
              "      <td>2</td>\n",
              "      <td>Suicide</td>\n",
              "      <td>0</td>\n",
              "      <td>M</td>\n",
              "      <td>64.0</td>\n",
              "      <td>White</td>\n",
              "      <td>100</td>\n",
              "      <td>Home</td>\n",
              "      <td>BA+</td>\n",
              "    </tr>\n",
              "    <tr>\n",
              "      <th>4</th>\n",
              "      <td>2012</td>\n",
              "      <td>2</td>\n",
              "      <td>Suicide</td>\n",
              "      <td>0</td>\n",
              "      <td>M</td>\n",
              "      <td>31.0</td>\n",
              "      <td>White</td>\n",
              "      <td>100</td>\n",
              "      <td>Other specified</td>\n",
              "      <td>HS/GED</td>\n",
              "    </tr>\n",
              "  </tbody>\n",
              "</table>\n",
              "</div>"
            ],
            "text/plain": [
              "   year  month   intent  ...  hispanic            place     education\n",
              "0  2012      1  Suicide  ...       100             Home           BA+\n",
              "1  2012      1  Suicide  ...       100           Street  Some college\n",
              "2  2012      1  Suicide  ...       100  Other specified           BA+\n",
              "3  2012      2  Suicide  ...       100             Home           BA+\n",
              "4  2012      2  Suicide  ...       100  Other specified        HS/GED\n",
              "\n",
              "[5 rows x 10 columns]"
            ]
          },
          "metadata": {},
          "execution_count": 5
        }
      ]
    },
    {
      "cell_type": "markdown",
      "metadata": {
        "id": "lUNKcDgS7dYZ"
      },
      "source": [
        "### Does age play a role in occurrence of suicides?"
      ]
    },
    {
      "cell_type": "code",
      "metadata": {
        "id": "cVXxJMEkCjOG"
      },
      "source": [
        "gundata['age'] = pd.to_numeric(gundata['age'])"
      ],
      "execution_count": 6,
      "outputs": []
    },
    {
      "cell_type": "code",
      "metadata": {
        "id": "FEfKkmuOFCYX"
      },
      "source": [
        "gundata.dropna(inplace=True)"
      ],
      "execution_count": 7,
      "outputs": []
    },
    {
      "cell_type": "code",
      "metadata": {
        "colab": {
          "base_uri": "https://localhost:8080/"
        },
        "id": "Yn_dZ52jDj8N",
        "outputId": "bee1c3a2-506e-4f49-caca-d4550f7ac6e4"
      },
      "source": [
        "sdata = gundata[gundata['intent'].str.contains(re.compile('(S|s)uicide'))]"
      ],
      "execution_count": 8,
      "outputs": [
        {
          "output_type": "stream",
          "name": "stderr",
          "text": [
            "/usr/local/lib/python3.7/dist-packages/pandas/core/strings.py:2001: UserWarning: This pattern has match groups. To actually get the groups, use str.extract.\n",
            "  return func(self, *args, **kwargs)\n"
          ]
        }
      ]
    },
    {
      "cell_type": "code",
      "metadata": {
        "colab": {
          "base_uri": "https://localhost:8080/",
          "height": 0
        },
        "id": "lKyOoWfcGiL3",
        "outputId": "b08563c9-d1a4-4f99-c842-9604ec334811"
      },
      "source": [
        "from math import ceil\n",
        "\n",
        "smin = sdata['age'].min()\n",
        "smax = sdata['age'].max()\n",
        "srange = ceil(smax - smin)\n",
        "y, x, n = plt.hist(sdata['age'], srange, facecolor='g')\n",
        "plt.ylabel('Suicides')\n",
        "plt.xlabel('Age')\n",
        "plt.xlim(smin,smax,1)\n",
        "plt.xticks(np.arange(smin+1,smax,10), rotation=0)\n",
        "plt.show()"
      ],
      "execution_count": 9,
      "outputs": [
        {
          "output_type": "display_data",
          "data": {
            "image/png": "[encoded data removed]",
            "text/plain": [
              "<Figure size 432x288 with 1 Axes>"
            ]
          },
          "metadata": {
            "needs_background": "light"
          }
        }
      ]
    },
    {
      "cell_type": "markdown",
      "metadata": {
        "id": "Zte7t1KRCPMX"
      },
      "source": [
        "### Is one gender more prone to suicide than the other one?"
      ]
    },
    {
      "cell_type": "code",
      "metadata": {
        "colab": {
          "base_uri": "https://localhost:8080/"
        },
        "id": "V6HTH85yCSYC",
        "outputId": "6223694c-abaf-4e53-d8f2-382decdbf15a"
      },
      "source": [
        "sm = sdata[sdata['sex'].str.contains(re.compile('(M|m)'))]\n",
        "sf = sdata[sdata['sex'].str.contains(re.compile('(F|f)'))]"
      ],
      "execution_count": 10,
      "outputs": [
        {
          "output_type": "stream",
          "name": "stderr",
          "text": [
            "/usr/local/lib/python3.7/dist-packages/pandas/core/strings.py:2001: UserWarning: This pattern has match groups. To actually get the groups, use str.extract.\n",
            "  return func(self, *args, **kwargs)\n"
          ]
        }
      ]
    },
    {
      "cell_type": "code",
      "metadata": {
        "colab": {
          "base_uri": "https://localhost:8080/",
          "height": 0
        },
        "id": "BpTrezoYNuGJ",
        "outputId": "a7d2e25c-51e5-4e6e-d642-945be9b3d675"
      },
      "source": [
        "height = [len(sm), len(sf)]\n",
        "bars = ('Male', 'Female')\n",
        "y_pos = np.arange(len(bars))\n",
        "plt.bar(y_pos, height)\n",
        "plt.xticks(y_pos, bars)\n",
        "plt.show()"
      ],
      "execution_count": 11,
      "outputs": [
        {
          "output_type": "display_data",
          "data": {
            "image/png": "[encoded data removed]",
            "text/plain": [
              "<Figure size 432x288 with 1 Axes>"
            ]
          },
          "metadata": {
            "needs_background": "light"
          }
        }
      ]
    },
    {
      "cell_type": "markdown",
      "metadata": {
        "id": "7K6dgsrMCTZa"
      },
      "source": [
        "### Is any combination of factors indicative of more suicides than other?\n"
      ]
    },
    {
      "cell_type": "markdown",
      "metadata": {
        "id": "Kg5Lym07P0Ja"
      },
      "source": [
        "#### Age x Suicide by Sex"
      ]
    },
    {
      "cell_type": "code",
      "metadata": {
        "colab": {
          "base_uri": "https://localhost:8080/",
          "height": 282
        },
        "id": "sP1sNxAmMYSS",
        "outputId": "163eb35b-2556-4cc0-c3ff-650863fb5a5b"
      },
      "source": [
        "smmin = sm['age'].min()\n",
        "smmax = sm['age'].max()\n",
        "smrange = ceil(smmax - smmin)\n",
        "sfmin = sf['age'].min()\n",
        "sfmax = sf['age'].max()\n",
        "sfrange = ceil(sfmax - sfmin)\n",
        "ym, xm, nm = plt.hist(sm['age'], smrange, facecolor='b')\n",
        "yf, xf, nf = plt.hist(sf['age'], sfrange, facecolor='r')\n",
        "plt.ylabel('Male suicides')\n",
        "plt.xlabel('Age')\n",
        "plt.xlim(min(smmin, sfmin), max(smmax, sfmax), 1)\n",
        "plt.xticks(np.arange(min(smmin, sfmin)+1, max(smmax, sfmax), 10), rotation=0)\n",
        "plt.show()"
      ],
      "execution_count": 12,
      "outputs": [
        {
          "output_type": "display_data",
          "data": {
            "image/png": "[encoded data removed]",
            "text/plain": [
              "<Figure size 432x288 with 1 Axes>"
            ]
          },
          "metadata": {
            "needs_background": "light"
          }
        }
      ]
    },
    {
      "cell_type": "code",
      "metadata": {
        "colab": {
          "base_uri": "https://localhost:8080/",
          "height": 279
        },
        "id": "GOfWvmp8k_9_",
        "outputId": "64d96d0b-c8d4-4c9c-c069-f0d115beb6fb"
      },
      "source": [
        "smin = sdata['age'].min()\n",
        "smax = sdata['age'].max()\n",
        "srange = ceil(smax - smin)\n",
        "y, x, n = plt.hist(sdata['age'], srange, facecolor='purple')\n",
        "smmin = sm['age'].min()\n",
        "smmax = sm['age'].max()\n",
        "smrange = ceil(smmax - smmin)\n",
        "ym, xm, nm = plt.hist(sm['age'], smrange, facecolor='b')\n",
        "sfmin = sf['age'].min()\n",
        "sfmax = sf['age'].max()\n",
        "sfrange = ceil(sfmax - sfmin)\n",
        "yf, xf, nf = plt.hist(sf['age'], sfrange, facecolor='r')\n",
        "plt.ylabel('Male suicides')\n",
        "plt.xlabel('Age')\n",
        "plt.xlim(min(smmin, sfmin), max(smmax, sfmax), 1)\n",
        "plt.xticks(np.arange(min(smmin, sfmin)+1, max(smmax, sfmax), 10), rotation=0)\n",
        "plt.show()"
      ],
      "execution_count": 14,
      "outputs": [
        {
          "output_type": "display_data",
          "data": {
            "image/png": "[encoded data removed]",
            "text/plain": [
              "<Figure size 432x288 with 1 Axes>"
            ]
          },
          "metadata": {
            "needs_background": "light"
          }
        }
      ]
    },
    {
      "cell_type": "markdown",
      "metadata": {
        "id": "1Cjwulg3PqjS"
      },
      "source": [
        "#### Other combinations"
      ]
    },
    {
      "cell_type": "code",
      "metadata": {
        "id": "wSM6QRJECVq0"
      },
      "source": [
        ""
      ],
      "execution_count": null,
      "outputs": []
    }
  ]
}